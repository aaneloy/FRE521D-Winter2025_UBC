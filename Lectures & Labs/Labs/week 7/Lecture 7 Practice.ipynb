{
 "cells": [
  {
   "cell_type": "markdown",
   "id": "aa2aae4a-f3c1-4f85-968a-c811bc2d4a03",
   "metadata": {},
   "source": [
    "# Lecture 7: In-Class Activity\n",
    "\n",
    "Now download the following datasets from Kaggle\n"
   ]
  },
  {
   "cell_type": "code",
   "execution_count": null,
   "id": "9c7c765a-ee3f-487c-bfc7-a47f0b72337c",
   "metadata": {},
   "outputs": [],
   "source": [
    "# Global Hunger Index 2022 Trends\n",
    "\n",
    "import kagglehub\n",
    "\n",
    "# Download latest version\n",
    "path = kagglehub.dataset_download(\"parasharmanas/global-hunger-index-2022-trends\")\n",
    "\n",
    "print(\"Path to dataset files:\", path)"
   ]
  },
  {
   "cell_type": "code",
   "execution_count": null,
   "id": "9572ab89-0fcc-4c7e-86c2-9f68964b7c81",
   "metadata": {},
   "outputs": [],
   "source": [
    "# Agri-food CO2 Emission Dataset\n",
    "\n",
    "import kagglehub\n",
    "\n",
    "# Download latest version\n",
    "path = kagglehub.dataset_download(\"alessandrolobello/agri-food-co2-emission-dataset-forecasting-ml\")\n",
    "\n",
    "print(\"Path to dataset files:\", path)\n"
   ]
  },
  {
   "cell_type": "code",
   "execution_count": null,
   "id": "497f05bf-8c06-462c-b2d4-992e0d08ad3d",
   "metadata": {},
   "outputs": [],
   "source": [
    "# Climate Impact on Global Food Supply Dataset\n",
    "\n",
    "import kagglehub\n",
    "\n",
    "# Download latest version\n",
    "path = kagglehub.dataset_download(\"usmanlovescode/climate-impact-on-global-food-supply-dataset\")\n",
    "\n",
    "print(\"Path to dataset files:\", path)\n",
    "\n"
   ]
  },
  {
   "cell_type": "code",
   "execution_count": null,
   "id": "ed95dd0a-e6ab-4d3f-a863-a949db1c1ca1",
   "metadata": {},
   "outputs": [],
   "source": [
    "# Global Food Emissions\n",
    "\n",
    "import kagglehub\n",
    "\n",
    "# Download latest version\n",
    "path = kagglehub.dataset_download(\"amandaroseknudsen/globalfoodemissions\")\n",
    "\n",
    "print(\"Path to dataset files:\", path)\n"
   ]
  },
  {
   "cell_type": "code",
   "execution_count": null,
   "id": "4d959ce0",
   "metadata": {},
   "outputs": [],
   "source": [
    "# CDP Challenge: Climate Adaptation Index\n",
    "\n",
    "import kagglehub\n",
    "\n",
    "# Download latest version\n",
    "path = kagglehub.dataset_download(\"shabou/cdp-challenge-climate-adaptation-index\")\n",
    "\n",
    "print(\"Path to dataset files:\", path)\n"
   ]
  },
  {
   "cell_type": "code",
   "execution_count": null,
   "id": "daa9d38b",
   "metadata": {},
   "outputs": [],
   "source": [
    "# Climate Change Data from WBSTATS\n",
    "\n",
    "import kagglehub\n",
    "\n",
    "# Download latest version\n",
    "path = kagglehub.dataset_download(\"darylb/climate-change-data-from-wbstats\")\n",
    "\n",
    "print(\"Path to dataset files:\", path)\n"
   ]
  },
  {
   "cell_type": "code",
   "execution_count": null,
   "id": "8d6de4d9",
   "metadata": {},
   "outputs": [],
   "source": [
    "# CDP-Challenge-Cities-KPI\n",
    "\n",
    "import kagglehub\n",
    "\n",
    "# Download latest version\n",
    "path = kagglehub.dataset_download(\"shabou/cdpchallengecitieskpi\")\n",
    "\n",
    "print(\"Path to dataset files:\", path)\n"
   ]
  }
 ],
 "metadata": {
  "kernelspec": {
   "display_name": "Python [conda env:base] *",
   "language": "python",
   "name": "conda-base-py"
  },
  "language_info": {
   "codemirror_mode": {
    "name": "ipython",
    "version": 3
   },
   "file_extension": ".py",
   "mimetype": "text/x-python",
   "name": "python",
   "nbconvert_exporter": "python",
   "pygments_lexer": "ipython3",
   "version": "3.10.13"
  }
 },
 "nbformat": 4,
 "nbformat_minor": 5
}
