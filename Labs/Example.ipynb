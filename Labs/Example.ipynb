{
 "cells": [
  {
   "cell_type": "code",
   "execution_count": null,
   "id": "835c5e4f-d1cf-492f-b648-b3145fe11e05",
   "metadata": {},
   "outputs": [],
   "source": [
    "import torch\n",
    "from torchvision import datasets, transforms\n",
    "from torch.utils.data import DataLoader\n",
    "import matplotlib.pyplot as plt\n",
    "import plotly.express as px\n",
    "import numpy as np\n",
    "\n",
    "# Define transformations to normalize and convert data to tensors\n",
    "transform = transforms.Compose([\n",
    "    transforms.ToTensor(),\n",
    "    transforms.Normalize((0.5,), (0.5,))\n",
    "])\n",
    "\n",
    "# Load MNIST dataset\n",
    "train_dataset = datasets.MNIST(root='./data', train=True, transform=transform, download=True)\n",
    "test_dataset = datasets.MNIST(root='./data', train=False, transform=transform, download=True)\n",
    "\n",
    "# Data loaders\n",
    "train_loader = DataLoader(train_dataset, batch_size=64, shuffle=True)\n",
    "test_loader = DataLoader(test_dataset, batch_size=64, shuffle=False)\n",
    "\n",
    "# Check the shape of the data\n",
    "print(f\"Train Dataset Size: {len(train_dataset)}\")\n",
    "print(f\"Test Dataset Size: {len(test_dataset)}\")\n"
   ]
  },
  {
   "cell_type": "code",
   "execution_count": null,
   "id": "47525f82-2996-4fc9-9882-7a46c21842af",
   "metadata": {},
   "outputs": [],
   "source": [
    "from torch.utils.data import Subset\n",
    "train_subset = Subset(train_dataset, range(100))  # Use first 100 samples\n",
    "show_few_samples(train_subset, num_samples=3)\n"
   ]
  },
  {
   "cell_type": "code",
   "execution_count": null,
   "id": "7cd5c46d-f8db-484e-81f2-8833a99b5938",
   "metadata": {},
   "outputs": [],
   "source": [
    "import matplotlib.pyplot as plt\n",
    "\n",
    "# Function to show the first 5 samples from the dataset\n",
    "def show_first_five_samples(dataset):\n",
    "    num_samples = min(5, len(dataset))  # Use 5 or fewer if the dataset has less than 5 samples\n",
    "    fig, axes = plt.subplots(1, num_samples, figsize=(15, 3))\n",
    "    \n",
    "    for i in range(num_samples):\n",
    "        img, label = dataset[i]\n",
    "        \n",
    "        # Convert the tensor image to a NumPy array if necessary\n",
    "        if hasattr(img, 'numpy'):  \n",
    "            img = img.numpy()\n",
    "        \n",
    "        axes[i].imshow(img.squeeze(), cmap=\"gray\")\n",
    "        axes[i].set_title(f\"Label: {label}\")\n",
    "        axes[i].axis(\"off\")\n",
    "\n",
    "    plt.tight_layout()\n",
    "    plt.show()\n",
    "\n",
    "# Show the first 5 samples from the train_dataset\n",
    "show_first_five_samples(train_dataset)\n"
   ]
  },
  {
   "cell_type": "code",
   "execution_count": null,
   "id": "46fd1fb6-cb89-4864-b2eb-9d71516e3ca1",
   "metadata": {},
   "outputs": [],
   "source": [
    "# Visualize a few samples from the dataset\n",
    "def show_samples(dataset, title):\n",
    "    fig, axes = plt.subplots(1, 4, figsize=(15, 2))\n",
    "    for i, ax in enumerate(axes):\n",
    "        img, label = dataset[i]\n",
    "        ax.imshow(img.squeeze(), cmap=\"gray\")\n",
    "        ax.set_title(f\"Label: {label}\")\n",
    "        ax.axis('off')\n",
    "    plt.suptitle(title)\n",
    "    plt.show()\n",
    "\n",
    "show_samples(train_dataset, \"Sample Images from MNIST Dataset\")\n"
   ]
  },
  {
   "cell_type": "code",
   "execution_count": null,
   "id": "f12fe415-1e71-4bf4-8957-6dda1506d06b",
   "metadata": {},
   "outputs": [],
   "source": [
    "# Plot class distribution in the dataset\n",
    "labels = [label for _, label in train_dataset]\n",
    "unique, counts = np.unique(labels, return_counts=True)\n",
    "\n",
    "fig = px.bar(x=unique, y=counts, labels={'x': 'Digits', 'y': 'Count'},\n",
    "             title=\"Class Distribution in MNIST Dataset\")\n",
    "fig.show()\n"
   ]
  },
  {
   "cell_type": "code",
   "execution_count": null,
   "id": "6ff8e0c3-5bfc-4473-95f4-1b97c7b922a2",
   "metadata": {},
   "outputs": [],
   "source": [
    "# Convert dataset into flattened arrays for unsupervised learning\n",
    "def flatten_dataset(dataset):\n",
    "    images, labels = [], []\n",
    "    for img, label in dataset:\n",
    "        images.append(img.view(-1).numpy())  # Flatten image\n",
    "        labels.append(label)\n",
    "    return np.array(images), np.array(labels)\n",
    "\n",
    "train_images, train_labels = flatten_dataset(train_dataset)\n",
    "test_images, test_labels = flatten_dataset(test_dataset)\n",
    "\n",
    "print(f\"Shape of Flattened Train Images: {train_images.shape}\")\n",
    "print(f\"Shape of Flattened Test Images: {test_images.shape}\")\n"
   ]
  },
  {
   "cell_type": "code",
   "execution_count": null,
   "id": "d7a2bf2c-396c-41a7-9f25-18721d014834",
   "metadata": {},
   "outputs": [],
   "source": []
  },
  {
   "cell_type": "code",
   "execution_count": null,
   "id": "405f7649-ff5d-46e4-bdfb-f5ebf1be6b36",
   "metadata": {},
   "outputs": [],
   "source": []
  },
  {
   "cell_type": "code",
   "execution_count": null,
   "id": "344ec368-535d-4917-bdb5-b48122560d47",
   "metadata": {},
   "outputs": [],
   "source": []
  },
  {
   "cell_type": "code",
   "execution_count": null,
   "id": "9b9f638f-a5df-462d-a054-4b202410ca71",
   "metadata": {},
   "outputs": [],
   "source": []
  },
  {
   "cell_type": "code",
   "execution_count": null,
   "id": "8735f9e4-755f-4bd8-a8bb-799228e36688",
   "metadata": {},
   "outputs": [],
   "source": []
  },
  {
   "cell_type": "code",
   "execution_count": null,
   "id": "199107b2-18d9-407b-a296-e5917bdf9140",
   "metadata": {},
   "outputs": [],
   "source": []
  },
  {
   "cell_type": "code",
   "execution_count": null,
   "id": "dd2dce88-9cd5-4a2f-b559-f46149eec98e",
   "metadata": {},
   "outputs": [],
   "source": []
  },
  {
   "cell_type": "code",
   "execution_count": null,
   "id": "8e7a4ccd-2435-4079-a512-7ca7c93bfcd5",
   "metadata": {},
   "outputs": [],
   "source": []
  },
  {
   "cell_type": "code",
   "execution_count": null,
   "id": "2f115bd0-d178-4a5b-8a9d-78a89e447446",
   "metadata": {},
   "outputs": [],
   "source": []
  },
  {
   "cell_type": "code",
   "execution_count": null,
   "id": "298e6377-f52c-482c-8595-5a11d9d99ec0",
   "metadata": {},
   "outputs": [],
   "source": []
  },
  {
   "cell_type": "code",
   "execution_count": null,
   "id": "fa544d4a-3d41-4098-a5e4-d6551bc7f4f7",
   "metadata": {},
   "outputs": [],
   "source": []
  },
  {
   "cell_type": "code",
   "execution_count": null,
   "id": "fb85edce-8331-46f6-ae99-111c9408bad5",
   "metadata": {},
   "outputs": [],
   "source": []
  },
  {
   "cell_type": "code",
   "execution_count": null,
   "id": "372fe8e4-4747-493a-ac83-ea9e35b317e1",
   "metadata": {},
   "outputs": [],
   "source": []
  },
  {
   "cell_type": "code",
   "execution_count": null,
   "id": "68b85332-cadf-49ac-bd2b-c94b1621fbb8",
   "metadata": {},
   "outputs": [],
   "source": []
  }
 ],
 "metadata": {
  "kernelspec": {
   "display_name": "Python [conda env:base] *",
   "language": "python",
   "name": "conda-base-py"
  },
  "language_info": {
   "codemirror_mode": {
    "name": "ipython",
    "version": 3
   },
   "file_extension": ".py",
   "mimetype": "text/x-python",
   "name": "python",
   "nbconvert_exporter": "python",
   "pygments_lexer": "ipython3",
   "version": "3.10.13"
  }
 },
 "nbformat": 4,
 "nbformat_minor": 5
}
