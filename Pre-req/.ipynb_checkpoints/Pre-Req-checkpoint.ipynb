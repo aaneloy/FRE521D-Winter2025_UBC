{
 "cells": [
  {
   "cell_type": "markdown",
   "id": "08f88e39-05db-43e1-8e25-623f503ba9ae",
   "metadata": {},
   "source": [
    "<h1 style=\"color: green; text-align: center;\">FRE521D: Setting Up Python and Anaconda for Data Analytics</h1>\r\n"
   ]
  },
  {
   "cell_type": "markdown",
   "id": "b3a8ea5d-e7c9-4dfc-9f28-a10237430f9b",
   "metadata": {},
   "source": [
    "## What is Anaconda?\r\n",
    "Anaconda is a free, open-source distribution of Python and R designed for data science, machine learning, and large-scale data processing. It provides:\r\n",
    "- Pre-installed libraries (e.g., NumPy, pandas, scikit-learn).\r\n",
    "- A package manager (`conda`) for managing dependencies and environments.\r\n",
    "- Tools like Jupyter Notebook, Spyder, and Anaconda Navigator.\r\n",
    "\r\n",
    "## Why Use Virtual Environments?\r\n",
    "Virtual environments are essential to:\r\n",
    "- Isolate project dependencies.\r\n",
    "- Avoid conflicts between different library versions.\r\n",
    "- Create reproducible code environments for team collaboration.\r\n",
    "\r\n",
    "## Popular Python IDEs\r\n",
    "Integrated Development Environments (IDEs) are tools that make coding easier. Common Python IDEs include:\r\n",
    "1. **VS Code**: Lightweight and highly extensible.\r\n",
    "2. **Jupyter Notebook**: Interactive and perfect for data analysis.\r\n",
    "3. **PyCharm**: Comprehensive and feature-rich.\r\n"
   ]
  },
  {
   "cell_type": "markdown",
   "id": "2044b2f3-cd17-4065-86f4-6be39b58927e",
   "metadata": {},
   "source": [
    "<h1 style=\"color: green;\">Installing VS Code and Python</h1>"
   ]
  },
  {
   "cell_type": "markdown",
   "id": "3ebd68c2-bfa3-494a-916d-27117a021f19",
   "metadata": {},
   "source": [
    "## Step 1: Install VS Code\n",
    "1. Download and install VS Code from [https://code.visualstudio.com/](https://code.visualstudio.com/).\n",
    "2. During installation, select the option to \"Add to PATH\".\n",
    "\n",
    "## Step 2: Install Python\n",
    "1. Download Python from [https://www.python.org/downloads/](https://www.python.org/downloads/).\n",
    "2. During installation, ensure \"Add Python to PATH\" is checked.\n",
    "3. Verify the installation:\n",
    "   - Open a terminal (Windows Command Prompt or macOS Terminal).\n",
    "   - Type:\n",
    "     ```\n",
    "     python --version\n",
    "     ```\n"
   ]
  },
  {
   "cell_type": "markdown",
   "id": "940b69af-ab80-4322-aa8a-7eb8a9021914",
   "metadata": {},
   "source": [
    "## Step 3: Install Python Extension in VS Code\n",
    "1. Open VS Code.\n",
    "2. Go to Extensions (`Ctrl+Shift+X` or `Cmd+Shift+X` on macOS).\n",
    "3. Search for \"Python\" and install the official **Microsoft Python extension**.\n"
   ]
  },
  {
   "cell_type": "markdown",
   "id": "cd4b56a5-6d66-4f6f-9ce5-6bbbe26c3aef",
   "metadata": {},
   "source": [
    "## Step 4: Create and Activate a Virtual Environment\n",
    "\n",
    "### On Windows:\n",
    "1. Open the terminal in VS Code (`Ctrl+\\`` or Cmd+\\``).\n",
    "\n",
    "   \n",
    "2. Create a virtual environment:\n",
    "```bash\n",
    "python -m venv myenv\n",
    "```\n",
    "  \n",
    "(you can use any name for myenv, like fre521d)\n",
    "\n",
    " 3. Activate the environment:\n",
    " ```bash\n",
    " myenv\\Scripts\\activate\n",
    " \n",
    " ```\n",
    "    `\n"
   ]
  },
  {
   "cell_type": "markdown",
   "id": "f4f6b5d0-16ef-4b27-93fa-7ead9823ccff",
   "metadata": {},
   "source": [
    "\n",
    "# Step 5: Select Interpreter in VS Code\n",
    "1. Press `Ctrl+Shift+P` (or `Cmd+Shift+P` on macOS) and type `Python: Select Interpreter`.\n",
    "2. Choose the virtual environment path (e.g., `myenv`).\n",
    "\n",
    "# Step 6: Run Python Code in VS Code\n",
    "1. Create a new file (`example.py`).\n",
    "2. Add Python code:\n",
    "```python\n",
    "print(\"Hello, FRE521D!\")\n"
   ]
  },
  {
   "cell_type": "markdown",
   "id": "289c0eb3-a46d-4656-9b82-451119bfdd0d",
   "metadata": {},
   "source": [
    "# Run the file:\n",
    "1. Right-click on the file and select Run Python File in Terminal.\n",
    "2. Or press F5 to debug."
   ]
  },
  {
   "cell_type": "markdown",
   "id": "e60ff8a9-6a13-40f1-8e8e-711ec377a03f",
   "metadata": {},
   "source": [
    "<h1 style=\"color: green;\">Installing and Using Anaconda</h1>\r\n",
    "2. Open Jupyter Notebook:\r\n",
    "raries:\r\n",
    "\n"
   ]
  },
  {
   "cell_type": "markdown",
   "id": "531a4a6e-7f68-4058-9cfc-abd0611df8b5",
   "metadata": {},
   "source": [
    "\n",
    "# Step 1: Download and Install Anaconda\n",
    "1. Download Anaconda from [https://www.anaconda.com/](https://www.anaconda.com/).\n",
    "2. Follow the installation wizard:\n",
    "   - On Windows, select \"Add Anaconda to PATH\".\n",
    "   - On macOS, confirm installation permissions.\n"
   ]
  },
  {
   "cell_type": "markdown",
   "id": "d5ac97aa-0e1b-470e-be9c-f9698e3a77d5",
   "metadata": {},
   "source": [
    "# Step 2: Create a Virtual Environment with Anaconda\n",
    "### Using Command Line (Terminal/Prompt):\n",
    "1. Open the Anaconda Prompt (Windows) or Terminal (macOS/Linux).\n",
    "2. Create a new environment with a specific Python version:\n",
    "\n",
    "   ```\n",
    "   conda create --name myenv python=3.9\n",
    "   \n",
    "   ```\n",
    "\n",
    "3. Activate the environment:\n",
    "- Windows:\n",
    "  ```\n",
    "  conda activate myenv\n",
    "  ```\n",
    "- macOS/Linux:\n",
    "  ```\n",
    "  conda activate myenv\n",
    "  ```\n",
    "4. Install libraries:\n",
    "   ```\n",
    "   conda install numpy pandas matplotlib\n",
    "   \n",
    "   ```"
   ]
  },
  {
   "cell_type": "markdown",
   "id": "e8ee9a71-bf2d-4e38-911e-ff58fd944e85",
   "metadata": {},
   "source": [
    "### Using Anaconda Navigator:\n",
    "1. Open Anaconda Navigator.\n",
    "2. Go to the \"Environments\" tab.\n",
    "\n",
    "3. Click **Create**:\n",
    "- Name the environment (e.g., `fre521d`).\n",
    "- Select the Python version.\n",
    "4. Activate the environment by selecting it in the list.\n",
    "\n",
    "---\n",
    "\n",
    "# Step 3: Why Use Anaconda Environments?\n",
    "1. **Environment Isolation**: Keeps dependencies project-specific.\n",
    "2. **Reproducibility**: Ensures consistent library versions for collaboration.\n",
    "3. **Flexibility**: Easily switch between different environments for diverse projects.\n",
    "\n",
    "---\n",
    "\n",
    "# Step 4: Running Python Code in Anaconda\n",
    "1. Activate the desired environment:\n",
    "- Windows:\n",
    "  ```\n",
    "  conda activate fre521d\n",
    "  ```\n",
    "- macOS/Linux:\n",
    "  ```\n",
    "  conda activate fre521d\n",
    "  ```\n",
    "2. Open Jupyter Notebook:\n",
    "   \n",
    "3. Run Python code interactively in the notebook:\r\n",
    "```python\r\n",
    "import numpy as np\r\n",
    "print(\"NumPy version:\", np.__version__)\r\n"
   ]
  },
  {
   "cell_type": "markdown",
   "id": "d6f26a20-591c-456f-9ee4-3399a9225219",
   "metadata": {},
   "source": [
    "\r\n",
    "\r",
    "# **4. Best Practices for Using Virtual Environmectices\r\n",
    "1. Always create a new environment for each project.\r\n",
    "2. Document dependencies in a `requirements.txt` file:\r\n"
   ]
  },
  {
   "cell_type": "code",
   "execution_count": null,
   "id": "67f5dbc9-fdd5-4506-9939-edd6bf364693",
   "metadata": {},
   "outputs": [],
   "source": []
  },
  {
   "cell_type": "code",
   "execution_count": null,
   "id": "0415a5c5-85d2-4f68-80fb-8b7d18dc063e",
   "metadata": {},
   "outputs": [],
   "source": []
  },
  {
   "cell_type": "code",
   "execution_count": null,
   "id": "6b25816f-3d95-45de-b734-5272252f9cb9",
   "metadata": {},
   "outputs": [],
   "source": []
  }
 ],
 "metadata": {
  "kernelspec": {
   "display_name": "Python 3 (ipykernel)",
   "language": "python",
   "name": "python3"
  },
  "language_info": {
   "codemirror_mode": {
    "name": "ipython",
    "version": 3
   },
   "file_extension": ".py",
   "mimetype": "text/x-python",
   "name": "python",
   "nbconvert_exporter": "python",
   "pygments_lexer": "ipython3",
   "version": "3.9.19"
  }
 },
 "nbformat": 4,
 "nbformat_minor": 5
}
